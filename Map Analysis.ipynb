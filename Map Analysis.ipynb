{
 "metadata": {
  "name": "",
  "signature": "sha256:5f4aa56a8722333bc73a99e508d307bf82945a2918fcd88149d26bd6fbbdbe90"
 },
 "nbformat": 3,
 "nbformat_minor": 0,
 "worksheets": [
  {
   "cells": [
    {
     "cell_type": "markdown",
     "metadata": {},
     "source": [
      "### Audit tag key values. \n",
      "\n",
      "Look at the k values fo the 'tag' elements and determine if there are going to be any problematic keys.  Group them into types of tags where possible"
     ]
    },
    {
     "cell_type": "code",
     "collapsed": false,
     "input": [
      "import xml.etree.ElementTree as ET\n",
      "import pprint\n",
      "import re\n",
      "\n",
      "lower = re.compile(r'^([a-z]|_)*$')\n",
      "with_colon = re.compile(r'^([a-z]|[A-Z]|_)*:([a-z]|[A-Z]|_)*$')\n",
      "problemchars = re.compile(r'[=\\+/&<>;\\'\"\\?%#$@\\,\\. \\t\\r\\n]')\n",
      "is_in = re.compile(r'is_in')\n"
     ],
     "language": "python",
     "metadata": {},
     "outputs": [],
     "prompt_number": 1
    },
    {
     "cell_type": "code",
     "collapsed": false,
     "input": [
      "def check_exist(tagtype,newtag,tagdict):\n",
      "    match =0\n",
      "    for k,_ in tagdict[tagtype].items():\n",
      "        if k == newtag:\n",
      "            tagdict[tagtype][k] +=1\n",
      "            match = 1\n",
      "    if match == 0: tagdict[tagtype][newtag] = 1\n",
      "    return(tagdict)"
     ],
     "language": "python",
     "metadata": {},
     "outputs": [],
     "prompt_number": 2
    },
    {
     "cell_type": "code",
     "collapsed": false,
     "input": [
      "def key_type(element, keys):\n",
      "    if element.tag == \"tag\":\n",
      "\n",
      "        key = element.get(\"k\") \n",
      "\n",
      "        if re.match('nhd-shp:',key): keys = check_exist('nhd-shp',key,keys)\n",
      "            \n",
      "        elif re.match(r\"health_|medical_system\",key): keys = check_exist('health_',key,keys)\n",
      "            \n",
      "        elif re.match('NHD:', key):keys = check_exist('nhd',key,keys)\n",
      "\n",
      "        elif re.match('gnis:', key):keys = check_exist('gnis',key,keys)\n",
      "        elif re.match('service:',key):keys = check_exist('service',key,keys)\n",
      "            \n",
      "        elif re.match('tiger:',key): keys = check_exist('tiger',key,keys)\n",
      "        elif re.match('addr:',key):keys = check_exist('addr',key,keys)\n",
      "\n",
      "        elif re.match('contact:',key):keys = check_exist('contact',key,keys)\n",
      "\n",
      "        elif re.match(\"is_in\",key): keys = check_exist('is_in',key,keys)\n",
      "\n",
      "        elif re.match(lower, key):keys = check_exist('lower',key,keys)\n",
      "\n",
      "        elif   re.match(with_colon, key): keys = check_exist('with_colon',key,keys)\n",
      "\n",
      "        elif  re.search(problemchars, key):keys = check_exist('problemchars',key,keys)\n",
      "\n",
      "\n",
      "        else: keys = check_exist('other',key,keys)\n",
      "              \n",
      "    return keys"
     ],
     "language": "python",
     "metadata": {},
     "outputs": [],
     "prompt_number": 3
    },
    {
     "cell_type": "markdown",
     "metadata": {},
     "source": [
      "As this is iteratively run, look for groups of possible k values and add them to the keys dictionary."
     ]
    },
    {
     "cell_type": "markdown",
     "metadata": {},
     "source": [
      "Use a smaller map of the town of my residence to try things, and then use a larger map of the greater metro Raleigh, NC area for final analysis."
     ]
    },
    {
     "cell_type": "code",
     "collapsed": false,
     "input": [
      "def process_map(filename):\n",
      "    keys = {\"lower\": {}, \"with_colon\": {}, \"problemchars\": {}, \"other\": {}, \"tiger\": {}, \"gnis\":{},\"nhd\":{},\"addr\":{},\"contact\":{},\"is_in\":{},\"nhd-shp\":{},\"health_\":{},\"service\":{}}  \n",
      "    \n",
      "    context = iter(ET.iterparse(filename, events=('start', 'end')))\n",
      "    _, root = next(context)\n",
      "    for event, element in context:\n",
      "        \n",
      "        if event == 'start':  \n",
      "            keys = key_type(element, keys)\n",
      "        elif event == 'end':\n",
      "            root.clear()\n",
      "\n",
      "    return keys"
     ],
     "language": "python",
     "metadata": {},
     "outputs": [],
     "prompt_number": 4
    },
    {
     "cell_type": "code",
     "collapsed": false,
     "input": [
      "smallmap = '/Users/toddtrautman/Downloads/map'\n",
      "bigmap = '/Users/toddtrautman/Downloads/map-4'"
     ],
     "language": "python",
     "metadata": {},
     "outputs": [],
     "prompt_number": 5
    },
    {
     "cell_type": "code",
     "collapsed": false,
     "input": [
      "\n",
      "keys = process_map(bigmap)"
     ],
     "language": "python",
     "metadata": {},
     "outputs": [],
     "prompt_number": 6
    },
    {
     "cell_type": "code",
     "collapsed": false,
     "input": [
      "pprint.pprint(keys)"
     ],
     "language": "python",
     "metadata": {},
     "outputs": [
      {
       "output_type": "stream",
       "stream": "stdout",
       "text": [
        "{'addr': {'addr:city': 1986,\n",
        "          'addr:country': 33,\n",
        "          'addr:full': 30,\n",
        "          'addr:housename': 16,\n",
        "          'addr:housenumber': 7061,\n",
        "          'addr:postcode': 1349,\n",
        "          'addr:state': 178,\n",
        "          'addr:street': 7069,\n",
        "          'addr:suite': 175,\n",
        "          'addr:unit': 46},\n",
        " 'contact': {'contact:email': 157,\n",
        "             'contact:facebook': 18,\n",
        "             'contact:fax': 215,\n",
        "             'contact:phone': 612,\n",
        "             'contact:twitter': 3,\n",
        "             'contact:website': 515},\n",
        " 'gnis': {'gnis:Class': 36,\n",
        "          'gnis:County': 36,\n",
        "          'gnis:County_num': 36,\n",
        "          'gnis:ST_alpha': 36,\n",
        "          'gnis:ST_num': 36,\n",
        "          'gnis:county_id': 69,\n",
        "          'gnis:county_name': 2,\n",
        "          'gnis:created': 74,\n",
        "          'gnis:feature_id': 179,\n",
        "          'gnis:feature_type': 1,\n",
        "          'gnis:id': 38,\n",
        "          'gnis:import_uuid': 1,\n",
        "          'gnis:reviewed': 1,\n",
        "          'gnis:state_id': 69},\n",
        " 'health_': {'health_facility:type': 70,\n",
        "             'health_person:type': 1,\n",
        "             'health_service:counseling': 1,\n",
        "             'health_service:counselling': 1,\n",
        "             'health_service:examination': 4,\n",
        "             'health_specialty': 1,\n",
        "             'health_specialty:acupuncture': 2,\n",
        "             'health_specialty:anti_aging': 1,\n",
        "             'health_specialty:audiology': 1,\n",
        "             'health_specialty:botox': 1,\n",
        "             'health_specialty:child_psychiatry': 1,\n",
        "             'health_specialty:chiropractic': 11,\n",
        "             'health_specialty:cosmetic': 1,\n",
        "             'health_specialty:cosmetic_dentistry': 1,\n",
        "             'health_specialty:cosmetic_surgery': 1,\n",
        "             'health_specialty:dentistry': 19,\n",
        "             'health_specialty:dermatology': 2,\n",
        "             'health_specialty:ear_nose_throat': 1,\n",
        "             'health_specialty:endodontics': 1,\n",
        "             'health_specialty:eye_surgery': 1,\n",
        "             'health_specialty:family_medicine': 9,\n",
        "             'health_specialty:geriatrics': 1,\n",
        "             'health_specialty:gynaecology': 1,\n",
        "             'health_specialty:implant_dentistry': 1,\n",
        "             'health_specialty:internal_medicine': 1,\n",
        "             'health_specialty:manual_therapy': 6,\n",
        "             'health_specialty:maxillofacial_surgery': 1,\n",
        "             'health_specialty:mohs_microscopic_surgery': 1,\n",
        "             'health_specialty:nephrology': 1,\n",
        "             'health_specialty:neurology': 1,\n",
        "             'health_specialty:occupational_therapy': 1,\n",
        "             'health_specialty:ophthalmology': 2,\n",
        "             'health_specialty:optometry': 5,\n",
        "             'health_specialty:oral_surgery': 2,\n",
        "             'health_specialty:orthodontics': 6,\n",
        "             'health_specialty:orthopaedics': 1,\n",
        "             'health_specialty:paediatric_neurology': 1,\n",
        "             'health_specialty:paediatrics': 5,\n",
        "             'health_specialty:periodontics': 1,\n",
        "             'health_specialty:periodontology': 1,\n",
        "             'health_specialty:physiatry': 1,\n",
        "             'health_specialty:physiotherapy': 4,\n",
        "             'health_specialty:plastic_surgery': 4,\n",
        "             'health_specialty:podiatry': 1,\n",
        "             'health_specialty:prosthodontics': 1,\n",
        "             'health_specialty:psychiatry': 2,\n",
        "             'health_specialty:psychotherapy': 2,\n",
        "             'health_specialty:pulmonology': 1,\n",
        "             'health_specialty:radiology': 1,\n",
        "             'health_specialty:reproductive_medicine': 1,\n",
        "             'health_specialty:sleep_medicine': 2,\n",
        "             'health_specialty:speech_therapy': 1,\n",
        "             'health_specialty:sports_medicine': 5,\n",
        "             'health_specialty:surgery': 5,\n",
        "             'health_specialty:traditional_chinese_medicine': 2,\n",
        "             'health_specialty:traditional_medicine': 2,\n",
        "             'health_specialty:weight_loss': 1,\n",
        "             'medical_system:western': 15},\n",
        " 'is_in': {'is_in': 40,\n",
        "           'is_in:continent': 1,\n",
        "           'is_in:country': 5,\n",
        "           'is_in:country_code': 4,\n",
        "           'is_in:iso_3166_2': 4,\n",
        "           'is_in:state': 10,\n",
        "           'is_in:state_code': 4},\n",
        " 'lower': {'abandoned': 1,\n",
        "           'access': 583,\n",
        "           'admin_level': 157,\n",
        "           'adoption': 1,\n",
        "           'aeroway': 3,\n",
        "           'after_school': 1,\n",
        "           'age_range': 1,\n",
        "           'alt_name': 58,\n",
        "           'amenity': 1154,\n",
        "           'animal_boarding': 3,\n",
        "           'area': 85,\n",
        "           'artist_name': 1,\n",
        "           'artwork_type': 3,\n",
        "           'atm': 16,\n",
        "           'attraction': 8,\n",
        "           'attribution': 979,\n",
        "           'automated': 1,\n",
        "           'backrest': 5,\n",
        "           'barrier': 125,\n",
        "           'bases': 1,\n",
        "           'bench': 15,\n",
        "           'bicycle': 331,\n",
        "           'bicycle_parking': 58,\n",
        "           'board_type': 8,\n",
        "           'boat': 3,\n",
        "           'border_type': 4,\n",
        "           'boundary': 157,\n",
        "           'brand': 27,\n",
        "           'bridge': 117,\n",
        "           'brushless': 1,\n",
        "           'building': 13903,\n",
        "           'bus': 74,\n",
        "           'butcher': 1,\n",
        "           'buyer': 2,\n",
        "           'cables': 2,\n",
        "           'capacity': 35,\n",
        "           'clothes': 23,\n",
        "           'collection_times': 7,\n",
        "           'colour': 24,\n",
        "           'compactor': 1,\n",
        "           'complete_date': 39,\n",
        "           'compounding': 1,\n",
        "           'consignment': 2,\n",
        "           'construction': 10,\n",
        "           'covered': 29,\n",
        "           'craft': 23,\n",
        "           'created_by': 727,\n",
        "           'crossing': 210,\n",
        "           'cuisine': 163,\n",
        "           'cycle_network': 5,\n",
        "           'cycleway': 37,\n",
        "           'denomination': 28,\n",
        "           'description': 20,\n",
        "           'destination': 11,\n",
        "           'dispensing': 2,\n",
        "           'display': 3,\n",
        "           'distance': 24,\n",
        "           'drive_in': 1,\n",
        "           'drive_through': 32,\n",
        "           'ele': 109,\n",
        "           'electrified': 25,\n",
        "           'emergency': 4,\n",
        "           'entrance': 75,\n",
        "           'est_width': 9,\n",
        "           'exit_to': 20,\n",
        "           'faces': 1,\n",
        "           'fax': 4,\n",
        "           'fee': 64,\n",
        "           'fence_type': 18,\n",
        "           'fishing': 2,\n",
        "           'fixme': 127,\n",
        "           'flashing_lights': 1,\n",
        "           'food': 2,\n",
        "           'foot': 337,\n",
        "           'footway': 156,\n",
        "           'ford': 1,\n",
        "           'frequency': 2,\n",
        "           'from': 3,\n",
        "           'fuel': 1,\n",
        "           'function': 1,\n",
        "           'gauge': 25,\n",
        "           'golf': 2,\n",
        "           'greenfield': 1,\n",
        "           'hat': 1,\n",
        "           'healthcare': 4,\n",
        "           'height': 1,\n",
        "           'hgv': 73,\n",
        "           'highway': 8308,\n",
        "           'hiking': 1,\n",
        "           'horse': 85,\n",
        "           'import_uuid': 36,\n",
        "           'indoor': 1,\n",
        "           'industrial': 2,\n",
        "           'information': 18,\n",
        "           'interactive': 1,\n",
        "           'internet_access': 5,\n",
        "           'junction': 13,\n",
        "           'kerb': 115,\n",
        "           'kindergarten': 1,\n",
        "           'landuse': 371,\n",
        "           'lanes': 188,\n",
        "           'lawyer': 1,\n",
        "           'layer': 214,\n",
        "           'lcn': 22,\n",
        "           'leisure': 402,\n",
        "           'level': 1,\n",
        "           'level_crossing': 2,\n",
        "           'linen': 2,\n",
        "           'lit': 14,\n",
        "           'local_name': 1,\n",
        "           'man_made': 19,\n",
        "           'mattress': 2,\n",
        "           'max_age': 14,\n",
        "           'maxaxleload': 5,\n",
        "           'maxheight': 1,\n",
        "           'maxspeed': 724,\n",
        "           'min_age': 20,\n",
        "           'motor_vehicle': 30,\n",
        "           'music': 1,\n",
        "           'mysterious_sign': 1,\n",
        "           'name': 6274,\n",
        "           'natural': 412,\n",
        "           'ncn_ref': 18,\n",
        "           'network': 50,\n",
        "           'noexit': 71,\n",
        "           'noname': 1,\n",
        "           'noref': 2,\n",
        "           'note': 25,\n",
        "           'nursery': 1,\n",
        "           'office': 147,\n",
        "           'official_name': 18,\n",
        "           'old_name': 6,\n",
        "           'old_ncn_ref': 3,\n",
        "           'old_railway_operator': 23,\n",
        "           'oneway': 741,\n",
        "           'opening_hours': 418,\n",
        "           'operator': 100,\n",
        "           'origin': 1,\n",
        "           'owner': 18,\n",
        "           'ownership': 88,\n",
        "           'par': 1,\n",
        "           'park_ride': 14,\n",
        "           'parking': 135,\n",
        "           'parts': 2,\n",
        "           'passenger': 3,\n",
        "           'phone': 167,\n",
        "           'pillow': 1,\n",
        "           'place': 48,\n",
        "           'playground': 6,\n",
        "           'polling_station': 1,\n",
        "           'population': 2,\n",
        "           'power': 204,\n",
        "           'proposed': 2,\n",
        "           'public_transport': 144,\n",
        "           'railway': 78,\n",
        "           'rcn_ref': 25,\n",
        "           'recycling_type': 6,\n",
        "           'ref': 367,\n",
        "           'religion': 55,\n",
        "           'rental': 5,\n",
        "           'repair': 3,\n",
        "           'restriction': 27,\n",
        "           'reverse_vending': 1,\n",
        "           'roundtrip': 20,\n",
        "           'route': 72,\n",
        "           'route_master': 3,\n",
        "           'sale': 1,\n",
        "           'school': 2,\n",
        "           'second_hand': 6,\n",
        "           'self_service': 1,\n",
        "           'service': 627,\n",
        "           'service_times': 13,\n",
        "           'shelter': 18,\n",
        "           'shelter_type': 5,\n",
        "           'shoes': 1,\n",
        "           'shop': 413,\n",
        "           'short_name': 17,\n",
        "           'sidewalk': 42,\n",
        "           'sloped_curb': 3,\n",
        "           'smoking': 5,\n",
        "           'smoothness': 2,\n",
        "           'social_facility': 3,\n",
        "           'social_facility_for': 1,\n",
        "           'source': 8970,\n",
        "           'source_ref': 15,\n",
        "           'sport': 191,\n",
        "           'start_date': 74,\n",
        "           'state': 2,\n",
        "           'step_count': 6,\n",
        "           'subject': 1,\n",
        "           'supervised': 19,\n",
        "           'support': 2,\n",
        "           'surface': 684,\n",
        "           'swinging': 3,\n",
        "           'symbol': 8,\n",
        "           'tactile_paving': 70,\n",
        "           'takeaway': 3,\n",
        "           'takeout': 2,\n",
        "           'to': 3,\n",
        "           'todo': 2,\n",
        "           'toll': 42,\n",
        "           'tomb': 2,\n",
        "           'tourism': 49,\n",
        "           'traffic_calming': 72,\n",
        "           'training': 4,\n",
        "           'tunnel': 51,\n",
        "           'tutor': 2,\n",
        "           'type': 146,\n",
        "           'unsigned_ref': 53,\n",
        "           'updated': 27,\n",
        "           'url': 1,\n",
        "           'usage': 22,\n",
        "           'vehicle': 3,\n",
        "           'vending': 46,\n",
        "           'veterinary': 6,\n",
        "           'video_games': 1,\n",
        "           'visibility': 3,\n",
        "           'voltage': 11,\n",
        "           'waste': 34,\n",
        "           'water': 60,\n",
        "           'water_slide': 1,\n",
        "           'waterbed': 1,\n",
        "           'waterway': 1025,\n",
        "           'website': 179,\n",
        "           'wheelchair': 26,\n",
        "           'width': 27,\n",
        "           'wikipedia': 31},\n",
        " 'nhd': {'NHD:ComID': 717,\n",
        "         'NHD:Elevation': 1,\n",
        "         'NHD:FCode': 717,\n",
        "         'NHD:FDate': 287,\n",
        "         'NHD:FTYPE': 286,\n",
        "         'NHD:FType': 430,\n",
        "         'NHD:GNIS_ID': 4,\n",
        "         'NHD:GNIS_Name': 4,\n",
        "         'NHD:RESOLUTION': 715,\n",
        "         'NHD:ReachCode': 716,\n",
        "         'NHD:way_id': 430},\n",
        " 'nhd-shp': {'nhd-shp:com_id': 549,\n",
        "             'nhd-shp:fcode': 550,\n",
        "             'nhd-shp:fdate': 549},\n",
        " 'other': {'Campus': 28,\n",
        "           'FIXME': 7,\n",
        "           'LOCATION': 27,\n",
        "           'NHS': 34,\n",
        "           'Street_1': 19,\n",
        "           'Street_2': 5,\n",
        "           'cinema:3D': 1,\n",
        "           'fuel:octane_91': 1,\n",
        "           'fuel:octane_95': 1,\n",
        "           'fuel:octane_98': 1,\n",
        "           'fuel:rec_90': 1,\n",
        "           'name_1': 167,\n",
        "           'name_2': 7,\n",
        "           'parking:lane:both': 1,\n",
        "           'source:hgv:national_network': 14},\n",
        " 'problemchars': {},\n",
        " 'service': {'service:bicycle:class': 1,\n",
        "             'service:bicycle:rental': 1,\n",
        "             'service:bicycle:repair': 4,\n",
        "             'service:bicycle:retail': 4,\n",
        "             'service:computer': 1,\n",
        "             'service:copy': 4,\n",
        "             'service:fax': 4,\n",
        "             'service:pack': 2,\n",
        "             'service:print': 4,\n",
        "             'service:scan': 3,\n",
        "             'service:ship': 4},\n",
        " 'tiger': {'tiger:CLASSFP': 4,\n",
        "           'tiger:CPI': 4,\n",
        "           'tiger:FUNCSTAT': 4,\n",
        "           'tiger:LSAD': 4,\n",
        "           'tiger:MTFCC': 4,\n",
        "           'tiger:NAME': 4,\n",
        "           'tiger:NAMELSAD': 4,\n",
        "           'tiger:PCICBSA': 4,\n",
        "           'tiger:PCINECTA': 4,\n",
        "           'tiger:PLACEFP': 4,\n",
        "           'tiger:PLACENS': 4,\n",
        "           'tiger:PLCIDFP': 4,\n",
        "           'tiger:STATEFP': 4,\n",
        "           'tiger:cfcc': 3158,\n",
        "           'tiger:county': 3158,\n",
        "           'tiger:name_base': 2995,\n",
        "           'tiger:name_base_1': 215,\n",
        "           'tiger:name_base_2': 19,\n",
        "           'tiger:name_base_3': 1,\n",
        "           'tiger:name_direction_prefix': 171,\n",
        "           'tiger:name_direction_prefix_1': 1,\n",
        "           'tiger:name_direction_suffix': 28,\n",
        "           'tiger:name_type': 2873,\n",
        "           'tiger:name_type_1': 30,\n",
        "           'tiger:name_type_2': 6,\n",
        "           'tiger:name_type_3': 1,\n",
        "           'tiger:reviewed': 3079,\n",
        "           'tiger:separated': 186,\n",
        "           'tiger:source': 233,\n",
        "           'tiger:tlid': 233,\n",
        "           'tiger:upload_uuid': 233,\n",
        "           'tiger:zip_left': 2479,\n",
        "           'tiger:zip_left_1': 61,\n",
        "           'tiger:zip_left_2': 9,\n",
        "           'tiger:zip_left_3': 6,\n",
        "           'tiger:zip_right': 2414,\n",
        "           'tiger:zip_right_1': 38,\n",
        "           'tiger:zip_right_2': 3,\n",
        "           'tiger:zip_right_3': 1},\n",
        " 'with_colon': {'access:backward': 1,\n",
        "                'access:conditional': 1,\n",
        "                'access:forward': 1,\n",
        "                'access:night': 1,\n",
        "                'building:levels': 11,\n",
        "                'building:type': 262,\n",
        "                'building:use': 6251,\n",
        "                'census:population': 1,\n",
        "                'communication:mobile_phone': 1,\n",
        "                'communication:radio': 5,\n",
        "                'communications_transponder:bearing': 5,\n",
        "                'communications_transponder:frequency': 5,\n",
        "                'communications_transponder:modulation': 5,\n",
        "                'communications_transponder:power': 5,\n",
        "                'communications_transponder:service': 5,\n",
        "                'counselling_type:child_guidance': 1,\n",
        "                'counselling_type:crisis': 1,\n",
        "                'counselling_type:nutrition': 1,\n",
        "                'dance:style': 3,\n",
        "                'dance:teaching': 2,\n",
        "                'diaper:male': 1,\n",
        "                'drink:beer': 1,\n",
        "                'drink:wine': 1,\n",
        "                'fuel:diesel': 1,\n",
        "                'healthcare:speciality': 1,\n",
        "                'hgv:national_network': 14,\n",
        "                'internet_access:fee': 2,\n",
        "                'isced:level': 3,\n",
        "                'name:en': 1,\n",
        "                'note:old_railway_operator': 7,\n",
        "                'payment:bitcoin': 4,\n",
        "                'payment:none': 1,\n",
        "                'provided_for:adolescent': 4,\n",
        "                'provided_for:adult': 4,\n",
        "                'provided_for:child': 4,\n",
        "                'provided_for:infant': 5,\n",
        "                'provided_for:senior': 2,\n",
        "                'provided_for:toddler': 5,\n",
        "                'public_transport:version': 3,\n",
        "                'recycling:clothes': 2,\n",
        "                'recycling:shoes': 2,\n",
        "                'ref:fcc': 1,\n",
        "                'service_times:es': 1,\n",
        "                'shop:car_repair': 1,\n",
        "                'social_facility:for': 2,\n",
        "                'source_ref:name': 1,\n",
        "                'survey:date': 25,\n",
        "                'tower:construction': 1,\n",
        "                'tower:type': 7,\n",
        "                'turn:lanes': 4,\n",
        "                'vehicle:service': 1}}\n"
       ]
      }
     ],
     "prompt_number": 7
    },
    {
     "cell_type": "markdown",
     "metadata": {},
     "source": [
      "Look at all values for an individual tag key."
     ]
    },
    {
     "cell_type": "code",
     "collapsed": false,
     "input": [
      "def audit_key(filename,keyname):\n",
      "    valuelist = []\n",
      "    context = iter(ET.iterparse(filename, events=('start', 'end')))\n",
      "    _, root = next(context)\n",
      "    for event, element in context:\n",
      "        \n",
      "        if event == 'start':  \n",
      "            if element.tag == \"tag\": \n",
      "                k = element.get(\"k\")\n",
      "                #print k\n",
      "                if k == keyname:\n",
      "                    valuelist.append(element.get(\"v\"))\n",
      "                \n",
      "            \n",
      "        elif event == 'end':\n",
      "            root.clear()\n",
      "\n",
      "    return valuelist"
     ],
     "language": "python",
     "metadata": {},
     "outputs": [],
     "prompt_number": 8
    },
    {
     "cell_type": "code",
     "collapsed": false,
     "input": [
      "values = audit_key(bigmap,\"contact:phone\")"
     ],
     "language": "python",
     "metadata": {},
     "outputs": [],
     "prompt_number": 9
    },
    {
     "cell_type": "markdown",
     "metadata": {},
     "source": [
      "## Audit Phone Numbers\n",
      "Phone numbers should have the format +X XXX XXX XXXX   Build a todo cleaning list of numbers that do not match this number.\n",
      "\n",
      "Tags that need to be scrubbed:\n",
      "- phone=\n",
      "- fax=\n",
      "- contact:phone\n",
      "- contact:fax"
     ]
    },
    {
     "cell_type": "code",
     "collapsed": false,
     "input": [
      "#Gold Standard: +1 919 555 1212\n",
      "phoneformat = re.compile(r'\\+1 \\d\\d\\d \\d\\d\\d \\d\\d\\d\\d')\n",
      "#Ex: 919 5551212 or 919-5551212\n",
      "badphoneformat = re.compile(r'\\d\\d\\d\\W\\d\\d\\d\\d\\d\\d\\d')\n",
      "#Ex: (919) 555-1212 or (919) 555 1212\n",
      "badphoneformat2 = re.compile(r'\\(\\d\\d\\d\\)\\W\\d\\d\\d\\W\\d\\d\\d\\d')\n",
      "#Ex: 919-555-1212\n",
      "badphoneformat3 = re.compile(r'\\d\\d\\d\\W\\d\\d\\d\\W\\d\\d\\d\\d')\n",
      "#Ex: 9195551212\n",
      "badphoneformat4 = re.compile(r'\\d\\d\\d\\d\\d\\d\\d\\d\\d\\d')"
     ],
     "language": "python",
     "metadata": {},
     "outputs": [],
     "prompt_number": 10
    },
    {
     "cell_type": "code",
     "collapsed": false,
     "input": [
      "values = audit_key(bigmap,\"contact:phone\")"
     ],
     "language": "python",
     "metadata": {},
     "outputs": [],
     "prompt_number": 26
    },
    {
     "cell_type": "code",
     "collapsed": false,
     "input": [
      "def scrub_phone(i):\n",
      "    if re.search(badphoneformat,i):\n",
      "        new = \"+1 \"+i[-11:-8]+\" \"+i[-7:-4]+\" \"+i[-4:]\n",
      "    elif re.search(badphoneformat2,i):\n",
      "        new = \"+1 \"+i[-13:-10]+\" \"+i[-8:-5]+\" \"+i[-4:]\n",
      "    elif re.search(badphoneformat3,i):\n",
      "        new = \"+1 \"+i[-12:-9]+\" \"+i[-8:-5]+\" \"+i[-4:]\n",
      "    elif re.search(badphoneformat4,i):\n",
      "        new = \"+1 \"+i[-10:-7]+\" \"+i[-7:-4]+\" \"+i[-4:]\n",
      "    else: new = i\n",
      "    return (new)\n",
      "            "
     ],
     "language": "python",
     "metadata": {},
     "outputs": [],
     "prompt_number": 27
    },
    {
     "cell_type": "code",
     "collapsed": false,
     "input": [
      "def print_scrubvalues(values):\n",
      "    for i in values:\n",
      "        if not re.match(phoneformat,i):\n",
      "            new = scrub_phone(i)\n",
      "\n",
      "            if new <> i:\n",
      "                if re.match(phoneformat,new):\n",
      "                    print \"Old: %s  New: %s\" % (i,new)\n",
      "                else: print \"%s is not correct format!!!!\" % new\n",
      "            else: print \"No change to %s\" % i"
     ],
     "language": "python",
     "metadata": {},
     "outputs": [],
     "prompt_number": 28
    },
    {
     "cell_type": "code",
     "collapsed": false,
     "input": [
      "\n",
      "print_scrubvalues(values)"
     ],
     "language": "python",
     "metadata": {},
     "outputs": [
      {
       "output_type": "stream",
       "stream": "stdout",
       "text": [
        "No change to +65 6323 1232\n",
        "Old: +1 919 3889996  New: +1 919 388 9996\n",
        "Old: +1 919 4601406  New: +1 919 460 1406\n",
        "Old: +1 919 4629761  New: +1 919 462 9761\n",
        "Old: +1 919 4652500  New: +1 919 465 2500\n",
        "Old: +1 919 4689251  New: +1 919 468 9251\n",
        "Old: +1 919 4609949  New: +1 919 460 9949\n",
        "Old: +1 919 4603917  New: +1 919 460 3917\n",
        "Old: +1 919 4811956  New: +1 919 481 1956\n",
        "Old: +1 919 4668527  New: +1 919 466 8527\n",
        "Old: +1 919 9091454  New: +1 919 909 1454\n",
        "Old: +1 919 4621729  New: +1 919 462 1729\n",
        "Old: +1 919 4699454  New: +1 919 469 9454\n",
        "Old: +1 919 3807644  New: +1 919 380 7644\n",
        "Old: +1 919 4627013  New: +1 919 462 7013\n",
        "Old: +1 919 4688177  New: +1 919 468 8177\n",
        "Old: +1 919 3800900  New: +1 919 380 0900\n",
        "Old: +1 919 4601055  New: +1 919 460 1055\n",
        "Old: +1 919 4692386  New: +1 919 469 2386\n",
        "Old: +1 919 4811361  New: +1 919 481 1361\n",
        "Old: +1 919 4699796  New: +1 919 469 9796\n",
        "Old: +1 919 4690875  New: +1 919 469 0875\n",
        "Old: +1 919 3800586  New: +1 919 380 0586\n",
        "Old: +1 919 4678788  New: +1 919 467 8788\n",
        "Old: +1 919 4672435  New: +1 919 467 2435\n",
        "Old: +1 919 4679668  New: +1 919 467 9668\n",
        "Old: +1 919 4679668  New: +1 919 467 9668\n",
        "Old: +1 919 4608942  New: +1 919 460 8942\n",
        "Old: +1 919 4810311  New: +1 919 481 0311\n",
        "Old: +1 919 4692772  New: +1 919 469 2772\n",
        "Old: +1 919 4674724  New: +1 919 467 4724\n",
        "Old: +1 919 4604794  New: +1 919 460 4794\n",
        "Old: +1 919 3809880  New: +1 919 380 9880\n",
        "Old: +1 919 4695872  New: +1 919 469 5872\n",
        "Old: +1 919 4699978  New: +1 919 469 9978\n",
        "Old: +1 919 3800339  New: +1 919 380 0339\n",
        "Old: +1 919 3800890  New: +1 919 380 0890\n",
        "Old: +1 919 4678393  New: +1 919 467 8393\n",
        "Old: +1 919 4693883  New: +1 919 469 3883\n",
        "Old: +1 919 4600155  New: +1 919 460 0155\n",
        "Old: +1 919 4675610  New: +1 919 467 5610\n",
        "Old: +1 919 4623900  New: +1 919 462 3900\n",
        "Old: +1 919 4686858  New: +1 919 468 6858\n",
        "Old: +1 919 4810025  New: +1 919 481 0025\n",
        "Old: +1 919 3193366  New: +1 919 319 3366\n",
        "Old: +1 919 3809104  New: +1 919 380 9104\n",
        "Old: +1 919 4607922  New: +1 919 460 7922\n",
        "Old: +1 919 4651234  New: +1 919 465 1234\n",
        "Old: +1 919 4608622  New: +1 919 460 8622\n",
        "Old: +1 919 3958784  New: +1 919 395 8784\n",
        "Old: +1 919 5353100  New: +1 919 535 3100\n",
        "Old: +1 919 4681828  New: +1 919 468 1828\n",
        "Old: +1 919 4609950  New: +1 919 460 9950\n",
        "Old: +1 919 4671879  New: +1 919 467 1879\n",
        "Old: +1 919 4673562  New: +1 919 467 3562\n",
        "Old: +1 919 4637878  New: +1 919 463 7878\n",
        "Old: +1 919 3809335  New: +1 919 380 9335\n",
        "Old: +1 919 4671505  New: +1 919 467 1505\n",
        "Old: +1 919 4611707  New: +1 919 461 1707\n",
        "Old: +1 919 4628001  New: +1 919 462 8001\n",
        "Old: +1 919 3884256  New: +1 919 388 4256\n",
        "Old: +1 919 4678037  New: +1 919 467 8037\n",
        "Old: +1 919 8597500  New: +1 919 859 7500\n",
        "Old: +1 919 4670365  New: +1 919 467 0365\n",
        "Old: +1 919 4612289  New: +1 919 461 2289\n",
        "Old: +1 919 4689171  New: +1 919 468 9171\n",
        "Old: +1 919 3888877  New: +1 919 388 8877\n",
        "Old: +1 919 4699390  New: +1 919 469 9390\n",
        "Old: +1 919 4674149  New: +1 919 467 4149\n",
        "Old: +1 919 3808851  New: +1 919 380 8851\n",
        "Old: +1 919 4679641  New: +1 919 467 9641\n",
        "Old: +1 919 4671294  New: +1 919 467 1294\n",
        "Old: +1 919 4813710  New: +1 919 481 3710\n",
        "Old: +1 919 6518299  New: +1 919 651 8299\n",
        "Old: +1 919 4672373  New: +1 919 467 2373\n",
        "Old: +1 919 4672373  New: +1 919 467 2373\n",
        "Old: +1 919 3195496  New: +1 919 319 5496\n",
        "Old: +1 919 4691069  New: +1 919 469 1069\n",
        "Old: +1 919 4600155  New: +1 919 460 0155\n",
        "Old: +1 919 4607747  New: +1 919 460 7747\n",
        "Old: +1 919 4675050  New: +1 919 467 5050\n",
        "Old: +1 919 4691611  New: +1 919 469 1611\n",
        "Old: +1 919 3800182  New: +1 919 380 0182\n",
        "Old: +1 919 4609001  New: +1 919 460 9001\n",
        "Old: +1 919 3804800  New: +1 919 380 4800\n",
        "Old: +1 919 3035148  New: +1 919 303 5148\n",
        "Old: +1 919 3038088  New: +1 919 303 8088\n"
       ]
      }
     ],
     "prompt_number": 29
    },
    {
     "cell_type": "code",
     "collapsed": false,
     "input": [
      "badphoneformat2 = re.compile(r'\\([0-9][0-9][0-9]\\) [0-9][0-9][0-9]-[0-9][0-9][0-9][0-9]')\n",
      "for i in values:\n",
      "    if re.match(badphoneformat2,i):\n",
      "        new = \"+1 \"+i[1:4]+\" \"+i[6:9]+\" \"+i[10:]\n",
      "        #print \"Old: %s   New: %s\" % (i,new)\n",
      "    elif re.match(phoneformat,i): pass\n",
      "    else: print i"
     ],
     "language": "python",
     "metadata": {},
     "outputs": [
      {
       "output_type": "stream",
       "stream": "stdout",
       "text": [
        "919-852-1550\n",
        "+ 1 919 363 1703\n",
        "+1 919 4680408\n",
        "1 919 228 9999\n",
        "+1 (919) 469-0197\n",
        "(919) 363.5002\n",
        "9194650400\n",
        "919-380-7135\n",
        "+1 919 3800056\n",
        "+1 919 4679055\n",
        "+1 919 4259798\n",
        "+1 919 3883100\n",
        "+1 919 4675149\n",
        "+1 919 3883001\n",
        "+1 919 4623433\n",
        "+1 919 4813931\n",
        "+1 919 4635449\n",
        "+1 919 4606791\n",
        "(919) 267 4982\n",
        "(919) 249 4949\n",
        "(919) 851.3379\n",
        "+ 1 919 363 8688\n",
        "+1 919 3621444\n",
        "+1 919 3800060\n",
        "+1 919 4676500\n",
        "+1 919 4609841\n",
        "919-387-3095\n",
        "+1 919 8320380\n",
        "+1 (919)233-4244\n",
        "+1-919-859-2544\n",
        "+1-919-861-2300\n",
        "+1 919 8519700\n",
        "+1 919 8542626\n",
        "+1 919 8541095\n",
        "+1 (919) 753-6515\n",
        "+1 (919) 858-7777\n",
        "+1 919 3620051\n",
        "+1 919 3876865\n",
        "+1 919 3629611\n",
        "+1 919 3639137\n",
        "+1 919 3861085\n",
        "+1 919 4671877\n",
        "+1 919 4689998\n",
        "+1 919 4600094\n",
        "+1 919 3807586\n",
        "919-467-7779\n",
        "919-467-7779\n",
        "919-467-7779\n",
        "919-467-7779\n",
        "919-387-3095\n",
        "919-387-3095\n",
        "919-467-2566\n",
        "919-467-0146\n"
       ]
      }
     ],
     "prompt_number": 132
    },
    {
     "cell_type": "markdown",
     "metadata": {},
     "source": [
      "## Clean Up City Names\n",
      "Any cases where addr:city values are not part of a common list should be audited"
     ]
    },
    {
     "cell_type": "raw",
     "metadata": {},
     "source": [
      "#grep addr:city map-4 | sort | uniq -c\n",
      " 144     <tag k=\"addr:city\" v=\"Apex\"/>\n",
      "   2     <tag k=\"addr:city\" v=\"Apex, NC\"/>\n",
      "1743     <tag k=\"addr:city\" v=\"Cary\"/>\n",
      "   2     <tag k=\"addr:city\" v=\"Morrisville\"/>\n",
      "  93     <tag k=\"addr:city\" v=\"Raleigh\"/>\n",
      "   1     <tag k=\"addr:city\" v=\"cary\"/>\n",
      "   1     <tag k=\"addr:city\" v=\"raleigh\"/>"
     ]
    },
    {
     "cell_type": "code",
     "collapsed": false,
     "input": [
      "valid_cities = ['Apex','Morrisville','Raleigh','Cary']\n",
      "values = audit_key(bigmap,\"addr:city\")"
     ],
     "language": "python",
     "metadata": {},
     "outputs": [],
     "prompt_number": 14
    },
    {
     "cell_type": "code",
     "collapsed": false,
     "input": [
      "def scrub_city(i):\n",
      "    \n",
      "    if i not in valid_cities:\n",
      "        for valid in valid_cities: \n",
      "            if re.search(valid,i,re.IGNORECASE): i = valid\n",
      "        print i\n",
      "    return (i)"
     ],
     "language": "python",
     "metadata": {},
     "outputs": [],
     "prompt_number": 15
    },
    {
     "cell_type": "code",
     "collapsed": false,
     "input": [
      "len(values)"
     ],
     "language": "python",
     "metadata": {},
     "outputs": [
      {
       "metadata": {},
       "output_type": "pyout",
       "prompt_number": 16,
       "text": [
        "1986"
       ]
      }
     ],
     "prompt_number": 16
    },
    {
     "cell_type": "code",
     "collapsed": false,
     "input": [
      "new = scrub_city(values[0])\n",
      "print values[0],new\n",
      "if values[0] <> new: print \"Change\""
     ],
     "language": "python",
     "metadata": {},
     "outputs": [
      {
       "output_type": "stream",
       "stream": "stdout",
       "text": [
        "Apex Apex\n"
       ]
      }
     ],
     "prompt_number": 17
    },
    {
     "cell_type": "code",
     "collapsed": false,
     "input": [
      "changelist = []\n",
      "for i in values: \n",
      "    new = scrub_city(i)\n",
      "    if i <> new: changelist.append((i,new))\n",
      "        "
     ],
     "language": "python",
     "metadata": {},
     "outputs": [
      {
       "output_type": "stream",
       "stream": "stdout",
       "text": [
        "Raleigh\n",
        "Cary\n",
        "Apex\n",
        "Apex\n"
       ]
      }
     ],
     "prompt_number": 18
    },
    {
     "cell_type": "code",
     "collapsed": false,
     "input": [
      "print changelist"
     ],
     "language": "python",
     "metadata": {},
     "outputs": [
      {
       "output_type": "stream",
       "stream": "stdout",
       "text": [
        "[('raleigh', 'Raleigh'), ('cary', 'Cary'), ('Apex, NC', 'Apex'), ('Apex, NC', 'Apex')]\n"
       ]
      }
     ],
     "prompt_number": 19
    },
    {
     "cell_type": "markdown",
     "metadata": {},
     "source": [
      "## Check other values in addr: keys\n",
      "\n",
      "Here are others to check, with the number of occurances:\n",
      "```\n",
      "{'addr': {'addr:city': 1986,\n",
      "          'addr:country': 33,\n",
      "          'addr:full': 30,\n",
      "          'addr:housename': 16,\n",
      "          'addr:housenumber': 7061,\n",
      "          'addr:postcode': 1349,\n",
      "          'addr:state': 178,\n",
      "          'addr:street': 7069,\n",
      "          'addr:suite': 175,\n",
      "          'addr:unit': 46},\n",
      "```"
     ]
    },
    {
     "cell_type": "markdown",
     "metadata": {},
     "source": [
      "#### Checking country first - looks ok."
     ]
    },
    {
     "cell_type": "code",
     "collapsed": false,
     "input": [
      "values = audit_key(bigmap,\"addr:country\")"
     ],
     "language": "python",
     "metadata": {},
     "outputs": [],
     "prompt_number": 33
    },
    {
     "cell_type": "code",
     "collapsed": false,
     "input": [
      "len(values)\n",
      "print values"
     ],
     "language": "python",
     "metadata": {},
     "outputs": [
      {
       "output_type": "stream",
       "stream": "stdout",
       "text": [
        "['US', 'US', 'US', 'US', 'US', 'US', 'US', 'US', 'US', 'US', 'US', 'US', 'US', 'US', 'US', 'US', 'US', 'US', 'US', 'US', 'US', 'US', 'US', 'US', 'US', 'US', 'US', 'US', 'US', 'US', 'US', 'US', 'US']\n"
       ]
      }
     ],
     "prompt_number": 34
    },
    {
     "cell_type": "markdown",
     "metadata": {},
     "source": [
      "#### Checking addr:full - it appears comma missing after Avenue in one case.  Write something to correct that."
     ]
    },
    {
     "cell_type": "code",
     "collapsed": false,
     "input": [
      "values = audit_key(bigmap,\"addr:full\")"
     ],
     "language": "python",
     "metadata": {},
     "outputs": [],
     "prompt_number": 29
    },
    {
     "cell_type": "code",
     "collapsed": false,
     "input": [
      "print len(values)\n",
      "for i in values: print i"
     ],
     "language": "python",
     "metadata": {},
     "outputs": [
      {
       "output_type": "stream",
       "stream": "stdout",
       "text": [
        "30\n",
        "2740 NC Highway 55, Suite 100\n",
        "305 Ashville Avenue, Suite F\n",
        "301 Ashville Avenue, Suite 121\n",
        "301 Ashville Avenue, Suite 101\n",
        "305 Ashville Avenue, Suite A\n",
        "311 Ashville Avenue, Suite G\n",
        "311 Ashville Avenue, Suite A\n",
        "305 Ashville Avenue, Suite G\n",
        "311 Ashville Avenue, Suite E\n",
        "311 Ashville Avenue, Suite J\n",
        "311 Ashville Avenue, Suite D\n",
        "401 Ashville Avenue Suite 109\n",
        "305 Ashville Avenue, Suite C\n",
        "301 Ashville Avenue, Suite 131\n",
        "305 Ashville Avenue, Suite H\n",
        "311 Ashville Avenue, Suite K\n",
        "400 Ashville Avenue, Suite 100\n",
        "400 Ashville Avenue, Suite 340\n",
        "400 Ashville Avenue, Suite 200\n",
        "400 Ashville Avenue, Suite 300\n",
        "109 Kilmayne Drive, Suite B\n",
        "107 Kilmayne Drive, Suite A\n",
        "107 Kilmayne Drive, Suite C\n",
        "1601 Walnut Street, Suite 201\n",
        "1601 Walnut Street, Suite 102\n",
        "1513 Walnut Street, Suite 200\n",
        "1601 Walnut Street, Suite 101\n",
        "100 Wrenn Drive, Suite B\n",
        "2740 NC Highway 55, Suite 100\n",
        "2740 NC Highway 55, Suite 202\n"
       ]
      }
     ],
     "prompt_number": 32
    },
    {
     "cell_type": "markdown",
     "metadata": {},
     "source": [
      "#### Checking addr:housename next\n",
      "It appears there is a problem with one of the fields. \"Suite 160\"  \n",
      "```\n",
      "<node id=\"2685687646\" lat=\"35.7396309\" lon=\"-78.8651726\" version=\"2\" timestamp=\"2014-02-22T23:29:14Z\" changeset=\"20724049\" uid=\"18083\n",
      "13\" user=\"rich-apex\">\n",
      "    <tag k=\"addr:city\" v=\"Apex\"/>\n",
      "    <tag k=\"addr:housename\" v=\"Suite 160\"/>\n",
      "    <tag k=\"addr:housenumber\" v=\"800\"/>\n",
      "    <tag k=\"addr:postcode\" v=\"27502\"/>\n",
      "    <tag k=\"addr:state\" v=\"NC\"/>\n",
      "    <tag k=\"addr:street\" v=\"West Williams Street\"/>\n",
      "    <tag k=\"name\" v=\"Planet Beach\"/>\n",
      "    <tag k=\"phone\" v=\"(919) 303-7003\"/>\n",
      "    <tag k=\"shop\" v=\"beauty\"/>\n",
      "    <tag k=\"website\" v=\"http://planetbeach.com/nc0021/\"/>\n",
      "  </node>\n",
      "```\n",
      "Probably should be changed to addr:suite\n",
      "\n",
      "Also, 212 Powell Drive appears to be the value a user has chosen for the housename.  Other address fields are appropriate - not going to update this record."
     ]
    },
    {
     "cell_type": "code",
     "collapsed": false,
     "input": [
      "values = audit_key(bigmap,\"addr:housename\")\n",
      "for i in values: print i"
     ],
     "language": "python",
     "metadata": {},
     "outputs": [
      {
       "output_type": "stream",
       "stream": "stdout",
       "text": [
        "Target\n",
        "The Home Depot\n",
        "Raleigh Chinese Christian Church\n",
        "Chatham Hill Winery\n",
        "Old Seaboard Railway Station\n",
        "Salem Street Prominade\n",
        "Salem Street Prominade\n",
        "Old Town Municipal Building (1912)\n",
        "Seasonal\n",
        "Bulk Oil Facility\n",
        "Suite 160\n",
        "Yates Mill Elementary School\n",
        "Nancy Jones House\n",
        "212 Powell Drive\n",
        "Rental Office\n",
        "Beth Shalom Religious School\n"
       ]
      }
     ],
     "prompt_number": 36
    },
    {
     "cell_type": "markdown",
     "metadata": {},
     "source": [
      "#### Checking addr:housenumber\n",
      "Check to make sure all house numbers are integers.  Any that are not should be audited."
     ]
    },
    {
     "cell_type": "code",
     "collapsed": false,
     "input": [
      "def is_number(s):\n",
      "  try:\n",
      "    int(s)\n",
      "    return True\n",
      "  except ValueError:\n",
      "    return False"
     ],
     "language": "python",
     "metadata": {},
     "outputs": [],
     "prompt_number": 37
    },
    {
     "cell_type": "code",
     "collapsed": false,
     "input": [
      "notnumber = []\n",
      "values = audit_key(bigmap,\"addr:housenumber\")\n",
      "for i in values:\n",
      "    if not is_number(i): notnumber.append(i)\n"
     ],
     "language": "python",
     "metadata": {},
     "outputs": [
      {
       "output_type": "stream",
       "stream": "stdout",
       "text": [
        "3\n"
       ]
      }
     ],
     "prompt_number": 38
    },
    {
     "cell_type": "code",
     "collapsed": false,
     "input": [
      "len(notnumber)"
     ],
     "language": "python",
     "metadata": {},
     "outputs": [
      {
       "metadata": {},
       "output_type": "pyout",
       "prompt_number": 40,
       "text": [
        "23"
       ]
      }
     ],
     "prompt_number": 40
    },
    {
     "cell_type": "markdown",
     "metadata": {},
     "source": [
      "Everything looks ok that isn't an integer."
     ]
    },
    {
     "cell_type": "code",
     "collapsed": false,
     "input": [
      "print notnumber"
     ],
     "language": "python",
     "metadata": {},
     "outputs": [
      {
       "output_type": "stream",
       "stream": "stdout",
       "text": [
        "['305-F', '301-121', '301-101', '305-A', '311-G', '311-A', '305-G', '311-E', '311-J', '311-D', '401-109', '305-C', '305-H', '311-K', '400-100', '400-340', '400-200', '400-300', '109-B', '107-A', '107-C', '9&15', '512`']\n"
       ]
      }
     ],
     "prompt_number": 39
    },
    {
     "cell_type": "markdown",
     "metadata": {},
     "source": [
      "#### Checking addr:postcode\n"
     ]
    },
    {
     "cell_type": "code",
     "collapsed": false,
     "input": [
      "validzip = [27502, 27523, 27519,27539,27518,27511,27513,27606,27607,27560]"
     ],
     "language": "python",
     "metadata": {},
     "outputs": [],
     "prompt_number": 42
    },
    {
     "cell_type": "code",
     "collapsed": false,
     "input": [
      "values = audit_key(bigmap,\"addr:postcode\")"
     ],
     "language": "python",
     "metadata": {},
     "outputs": [],
     "prompt_number": 43
    },
    {
     "cell_type": "code",
     "collapsed": false,
     "input": [
      "def scrub_zip(z):\n",
      "    #Convert to first five integers\n",
      "    try:\n",
      "        short = int(z[:5])\n",
      "        if short in validzip: return(True)\n",
      "        else: return(False)\n",
      "        \n",
      "    except ValueError:\n",
      "    \n",
      "        return (False)"
     ],
     "language": "python",
     "metadata": {},
     "outputs": [],
     "prompt_number": 50
    },
    {
     "cell_type": "code",
     "collapsed": false,
     "input": [
      "notzip = []\n",
      "for i in values:\n",
      "    if not scrub_zip(i): notzip.append(i)"
     ],
     "language": "python",
     "metadata": {},
     "outputs": [],
     "prompt_number": 51
    },
    {
     "cell_type": "code",
     "collapsed": false,
     "input": [
      "len(notzip)"
     ],
     "language": "python",
     "metadata": {},
     "outputs": [
      {
       "metadata": {},
       "output_type": "pyout",
       "prompt_number": 52,
       "text": [
        "0"
       ]
      }
     ],
     "prompt_number": 52
    },
    {
     "cell_type": "markdown",
     "metadata": {},
     "source": [
      "All zip codes are in within the boundry per http://www.zipmap.net/North_Carolina/Wake_County/Raleigh.htm\n"
     ]
    },
    {
     "cell_type": "markdown",
     "metadata": {},
     "source": [
      "#### Checking addr:state\n"
     ]
    },
    {
     "cell_type": "code",
     "collapsed": false,
     "input": [
      "notNC = []\n",
      "values = audit_key(bigmap,\"addr:state\")\n",
      "for i in values: \n",
      "    if i <> \"NC\": notNC.append(i)"
     ],
     "language": "python",
     "metadata": {},
     "outputs": [],
     "prompt_number": 54
    },
    {
     "cell_type": "code",
     "collapsed": false,
     "input": [
      "\n",
      "len(notNC)"
     ],
     "language": "python",
     "metadata": {},
     "outputs": [
      {
       "metadata": {},
       "output_type": "pyout",
       "prompt_number": 57,
       "text": [
        "2"
       ]
      }
     ],
     "prompt_number": 57
    },
    {
     "cell_type": "code",
     "collapsed": false,
     "input": [
      "notNC"
     ],
     "language": "python",
     "metadata": {},
     "outputs": [
      {
       "metadata": {},
       "output_type": "pyout",
       "prompt_number": 58,
       "text": [
        "['US', 'NC-']"
       ]
      }
     ],
     "prompt_number": 58
    },
    {
     "cell_type": "markdown",
     "metadata": {},
     "source": [
      "Probably makes sense to simply hard code every addr:state and addr:country to NC and US\n",
      "        "
     ]
    },
    {
     "cell_type": "markdown",
     "metadata": {},
     "source": [
      "#### Checking addr:street\n"
     ]
    },
    {
     "cell_type": "code",
     "collapsed": false,
     "input": [
      "streets = audit_key(bigmap,\"addr:street\")"
     ],
     "language": "python",
     "metadata": {},
     "outputs": [],
     "prompt_number": 20
    },
    {
     "cell_type": "code",
     "collapsed": false,
     "input": [
      "street_type_re = re.compile(r'\\b\\S+\\.?$', re.IGNORECASE)\n",
      "expected = [\"Street\", \"Avenue\", \"Boulevard\", \"Drive\", \"Court\", \"Place\", \"Square\", \"Lane\", \"Road\", \n",
      "            \"Trail\", \"Parkway\", \"Commons\",\"Circle\",\"Way\",\"Loop\",\"55\",\"West\",\"Crescent\",\"Crossing\",\"Grove\",\"Run\",\"Peakway\"]"
     ],
     "language": "python",
     "metadata": {},
     "outputs": [],
     "prompt_number": 46
    },
    {
     "cell_type": "code",
     "collapsed": false,
     "input": [
      "mapping = { \"St\": \"Street\",\n",
      "            \"St.\": \"Street\",\n",
      "            \"Ave\" : \"Avenue\",\n",
      "            \"Rd.\" : \"Road\",\n",
      "            \"Rd\" : \"Road\",\n",
      "            \"Cir\" : \"Circle\",\n",
      "            \"Cir.\" : \"Circle\",\n",
      "            \"Pl\" : \"Place\",\n",
      "            \"Pl.\" : \"Place\",\n",
      "            \"Dr\" : \"Drive\",\n",
      "            \"Dr.\" : \"Drive\"\n",
      "            \n",
      "            }"
     ],
     "language": "python",
     "metadata": {},
     "outputs": [],
     "prompt_number": 57
    },
    {
     "cell_type": "code",
     "collapsed": false,
     "input": [
      "from collections import defaultdict\n",
      "street_types = defaultdict(set)"
     ],
     "language": "python",
     "metadata": {},
     "outputs": [],
     "prompt_number": 48
    },
    {
     "cell_type": "code",
     "collapsed": false,
     "input": [
      "def audit_street_type(street_types, street_name):\n",
      "  m = street_type_re.search(street_name)\n",
      "  if m:\n",
      "    street_type = m.group()\n",
      "    if street_type not in expected:  #Only look at weird street types\n",
      "      \n",
      "      street_types[street_type].add(street_name)"
     ],
     "language": "python",
     "metadata": {},
     "outputs": [],
     "prompt_number": 49
    },
    {
     "cell_type": "code",
     "collapsed": false,
     "input": [
      "for i in streets:\n",
      "    audit_street_type(street_types,i)"
     ],
     "language": "python",
     "metadata": {},
     "outputs": [],
     "prompt_number": 50
    },
    {
     "cell_type": "code",
     "collapsed": false,
     "input": [
      "pprint.pprint(dict(street_types))"
     ],
     "language": "python",
     "metadata": {},
     "outputs": [
      {
       "output_type": "stream",
       "stream": "stdout",
       "text": [
        "{'Cir': set(['Daybrook Cir']),\n",
        " 'Dr': set(['Crab Orchard Dr']),\n",
        " 'NC)': set(['US 64 (NC)']),\n",
        " 'Pl': set(['Balaji Pl']),\n",
        " 'Rd': set(['Buck Jones Rd'])}\n"
       ]
      }
     ],
     "prompt_number": 51
    },
    {
     "cell_type": "markdown",
     "metadata": {},
     "source": [
      "Looks like we need to normalize the last word - ex: 'Pl' to 'Place'  'Rd' to \"Road\""
     ]
    },
    {
     "cell_type": "code",
     "collapsed": false,
     "input": [
      "def update_name(name, mapping):\n",
      "\n",
      "    for k, v in mapping.items():        \n",
      "        match = re.search(k,name)\n",
      "        if match:\n",
      "            name = re.sub(k,v,name)\n",
      "            break\n",
      "    #print \"Pattern:|%s| Replacement:|%s| New String:|%s|\" % (k,v,name)\n",
      "\n",
      "    return name"
     ],
     "language": "python",
     "metadata": {},
     "outputs": [],
     "prompt_number": 52
    },
    {
     "cell_type": "code",
     "collapsed": false,
     "input": [
      "for st_type, ways in street_types.iteritems():\n",
      "    for name in ways:\n",
      "        better_name = update_name(name,mapping)\n",
      "        print name, \"->\", better_name"
     ],
     "language": "python",
     "metadata": {},
     "outputs": [
      {
       "output_type": "stream",
       "stream": "stdout",
       "text": [
        "Buck Jones Rd -> Buck Jones Road\n",
        "US 64 (NC) -> US 64 (NC)\n",
        "Crab Orchard Dr -> Crab Orchard Drive\n",
        "Balaji Pl -> Balaji Place\n",
        "Daybrook Cir -> Daybrook Circle\n"
       ]
      }
     ],
     "prompt_number": 58
    },
    {
     "cell_type": "markdown",
     "metadata": {},
     "source": [
      "#### Checking addr:suite"
     ]
    },
    {
     "cell_type": "code",
     "collapsed": false,
     "input": [
      "suites = audit_key(bigmap,\"addr:suite\")"
     ],
     "language": "python",
     "metadata": {},
     "outputs": [],
     "prompt_number": 63
    },
    {
     "cell_type": "code",
     "collapsed": false,
     "input": [
      "oneword = re.compile(r'^[\\w-]+$')\n",
      "strangesuite = []\n",
      "for i in suites:\n",
      "    if not re.match(oneword,i): strangesuite.append(i)\n",
      "    "
     ],
     "language": "python",
     "metadata": {},
     "outputs": [],
     "prompt_number": 76
    },
    {
     "cell_type": "code",
     "collapsed": false,
     "input": [
      "len(strangesuite)"
     ],
     "language": "python",
     "metadata": {},
     "outputs": [
      {
       "metadata": {},
       "output_type": "pyout",
       "prompt_number": 77,
       "text": [
        "0"
       ]
      }
     ],
     "prompt_number": 77
    },
    {
     "cell_type": "code",
     "collapsed": false,
     "input": [
      "len(suites)"
     ],
     "language": "python",
     "metadata": {},
     "outputs": [
      {
       "metadata": {},
       "output_type": "pyout",
       "prompt_number": 78,
       "text": [
        "175"
       ]
      }
     ],
     "prompt_number": 78
    },
    {
     "cell_type": "code",
     "collapsed": false,
     "input": [
      "for i in strangesuite: print i"
     ],
     "language": "python",
     "metadata": {},
     "outputs": [],
     "prompt_number": 79
    },
    {
     "cell_type": "markdown",
     "metadata": {},
     "source": [
      "Everything looks ok for suites - only one 'word' in Suite field."
     ]
    },
    {
     "cell_type": "markdown",
     "metadata": {},
     "source": [
      "#### CHecking Unit"
     ]
    },
    {
     "cell_type": "code",
     "collapsed": false,
     "input": [
      "units = audit_key(bigmap,\"addr:unit\")"
     ],
     "language": "python",
     "metadata": {},
     "outputs": [],
     "prompt_number": 82
    },
    {
     "cell_type": "code",
     "collapsed": false,
     "input": [
      "for i in units: print i"
     ],
     "language": "python",
     "metadata": {},
     "outputs": [
      {
       "output_type": "stream",
       "stream": "stdout",
       "text": [
        "Suite 131\n",
        "1100\n",
        "FC5\n",
        "200\n",
        "124\n",
        "1136\n",
        "FC11\n",
        "FC9\n",
        "FC7\n",
        "129\n",
        "150\n",
        "8804\n",
        "157A\n",
        "200\n",
        "K5044\n",
        "5504\n",
        "1148\n",
        "5508\n",
        "FC8\n",
        "FC6\n",
        "200\n",
        "151\n",
        "2212\n",
        "2208\n",
        "FC2\n",
        "FC4\n",
        "1120\n",
        "4448\n",
        "FC1\n",
        "3315\n",
        "Unit F-120\n",
        "FC10\n",
        "K5000\n",
        "129A\n",
        "1106\n",
        "5051\n",
        "FC3\n",
        "132\n",
        "5500\n",
        "2204\n",
        "7708\n",
        "160\n",
        "3308\n",
        "102\n",
        "101\n",
        "600\n"
       ]
      }
     ],
     "prompt_number": 83
    },
    {
     "cell_type": "code",
     "collapsed": false,
     "input": [],
     "language": "python",
     "metadata": {},
     "outputs": []
    }
   ],
   "metadata": {}
  }
 ]
}