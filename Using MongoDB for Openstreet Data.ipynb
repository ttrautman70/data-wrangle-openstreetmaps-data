{
 "metadata": {
  "name": "",
  "signature": "sha256:73ab249f555c96ce79c1c6c9446c8c2eb561c055175a85041528514738daacc7"
 },
 "nbformat": 3,
 "nbformat_minor": 0,
 "worksheets": [
  {
   "cells": [
    {
     "cell_type": "markdown",
     "metadata": {},
     "source": [
      "# Notes on building mongodb database\n",
      "\n",
      "After performing initial audit and then cleaning and creating a json file called \"map-4.json\" it was time to import the map data into mongodb.  Below are the results of importing the 54.5 MB file:\n",
      "```\n",
      "Todds-MacBook-Pro:~ toddtrautman$ mongoimport --db openstreet -c caryapex --file notebooks/map-4.json\n",
      "2015-05-03T14:21:21.184-0400\tconnected to: localhost\n",
      "2015-05-03T14:21:24.183-0400\t[#############...........] openstreet.caryapex\t30.0 MB/54.5 MB (55.1%)\n",
      "2015-05-03T14:21:26.500-0400\timported 261261 documents\n",
      "```"
     ]
    },
    {
     "cell_type": "markdown",
     "metadata": {},
     "source": [
      "Data appears to have imported correctly:\n",
      "```\n",
      "Todds-MacBook-Pro:~ toddtrautman$ mongo\n",
      "MongoDB shell version: 3.0.1\n",
      "connecting to: test\n",
      "> use openstreet\n",
      "switched to db openstreet\n",
      "> show collections\n",
      "caryapex\n",
      "system.indexes\n",
      "> db.caryapex.count()\n",
      "261261\n",
      "```"
     ]
    },
    {
     "cell_type": "markdown",
     "metadata": {},
     "source": [
      "# Using the new database\n"
     ]
    },
    {
     "cell_type": "code",
     "collapsed": false,
     "input": [
      "import codecs\n",
      "import csv\n",
      "import json\n",
      "import pprint\n",
      "import re\n",
      "from pymongo import MongoClient\n",
      "\n"
     ],
     "language": "python",
     "metadata": {},
     "outputs": [],
     "prompt_number": 133
    },
    {
     "cell_type": "code",
     "collapsed": false,
     "input": [
      "client = MongoClient(\"mongodb://localhost:27017\")\n",
      "db = client.openstreet"
     ],
     "language": "python",
     "metadata": {},
     "outputs": [],
     "prompt_number": 134
    },
    {
     "cell_type": "code",
     "collapsed": false,
     "input": [
      "query = {\"created.user\" : \"rich-apex\"}\n",
      "richapex = db.caryapex.find(query)"
     ],
     "language": "python",
     "metadata": {},
     "outputs": [],
     "prompt_number": 135
    },
    {
     "cell_type": "code",
     "collapsed": false,
     "input": [
      "richapex.count()"
     ],
     "language": "python",
     "metadata": {},
     "outputs": [
      {
       "metadata": {},
       "output_type": "pyout",
       "prompt_number": 136,
       "text": [
        "480"
       ]
      }
     ],
     "prompt_number": 136
    },
    {
     "cell_type": "markdown",
     "metadata": {},
     "source": [
      "#### Number of nodes"
     ]
    },
    {
     "cell_type": "code",
     "collapsed": false,
     "input": [
      "nodesq = {\"type\":\"node\"}\n",
      "print db.caryapex.find(nodesq).count()"
     ],
     "language": "python",
     "metadata": {},
     "outputs": [
      {
       "output_type": "stream",
       "stream": "stdout",
       "text": [
        "238674\n"
       ]
      }
     ],
     "prompt_number": 137
    },
    {
     "cell_type": "markdown",
     "metadata": {},
     "source": [
      "#### Number of ways"
     ]
    },
    {
     "cell_type": "code",
     "collapsed": false,
     "input": [
      "waysq = {\"type\":\"way\"}\n",
      "print db.caryapex.find(waysq).count()"
     ],
     "language": "python",
     "metadata": {},
     "outputs": [
      {
       "output_type": "stream",
       "stream": "stdout",
       "text": [
        "22585\n"
       ]
      }
     ],
     "prompt_number": 138
    },
    {
     "cell_type": "markdown",
     "metadata": {},
     "source": [
      "#### Number of unique users"
     ]
    },
    {
     "cell_type": "code",
     "collapsed": false,
     "input": [
      "len(db.caryapex.distinct(\"created.user\"))"
     ],
     "language": "python",
     "metadata": {},
     "outputs": [
      {
       "metadata": {},
       "output_type": "pyout",
       "prompt_number": 139,
       "text": [
        "193"
       ]
      }
     ],
     "prompt_number": 139
    },
    {
     "cell_type": "markdown",
     "metadata": {},
     "source": [
      "#### Zip Code Exploration\n",
      "Which US Zip codes have the most entries?"
     ]
    },
    {
     "cell_type": "code",
     "collapsed": false,
     "input": [
      "def make_pipeline():\n",
      "    pipeline = [\n",
      "                {\"$match\" : {\"address.postcode\" : {\"$exists\" :1}}},\n",
      "                {\"$project\" : {\"shortzip\" : {\"$substr\":[ \"$address.postcode\", 0, 5 ]}}},\n",
      "                {\"$group\" : {\"_id\" : \"$shortzip\",\"count\":{\"$sum\" : 1}}},\n",
      "                {\"$sort\" : {\"count\" : -1}},                                \n",
      "               ]\n",
      "    return(pipeline)"
     ],
     "language": "python",
     "metadata": {},
     "outputs": [],
     "prompt_number": 140
    },
    {
     "cell_type": "code",
     "collapsed": false,
     "input": [
      "pipeline = make_pipeline()\n",
      "result = db.caryapex.aggregate(pipeline)"
     ],
     "language": "python",
     "metadata": {},
     "outputs": [],
     "prompt_number": 141
    },
    {
     "cell_type": "code",
     "collapsed": false,
     "input": [
      "len(result[\"result\"])"
     ],
     "language": "python",
     "metadata": {},
     "outputs": [
      {
       "metadata": {},
       "output_type": "pyout",
       "prompt_number": 142,
       "text": [
        "10"
       ]
      }
     ],
     "prompt_number": 142
    },
    {
     "cell_type": "code",
     "collapsed": false,
     "input": [
      "pprint.pprint(result)"
     ],
     "language": "python",
     "metadata": {},
     "outputs": [
      {
       "output_type": "stream",
       "stream": "stdout",
       "text": [
        "{u'ok': 1.0,\n",
        " u'result': [{u'_id': u'27519', u'count': 841},\n",
        "             {u'_id': u'27502', u'count': 136},\n",
        "             {u'_id': u'27511', u'count': 117},\n",
        "             {u'_id': u'27606', u'count': 86},\n",
        "             {u'_id': u'27513', u'count': 85},\n",
        "             {u'_id': u'27518', u'count': 46},\n",
        "             {u'_id': u'27523', u'count': 4},\n",
        "             {u'_id': u'27539', u'count': 4},\n",
        "             {u'_id': u'27560', u'count': 2},\n",
        "             {u'_id': u'27607', u'count': 2}]}\n"
       ]
      }
     ],
     "prompt_number": 143
    },
    {
     "cell_type": "code",
     "collapsed": false,
     "input": [
      "from pandas import *\n",
      "import numpy as np\n",
      "from ggplot import *\n",
      "\n",
      "import matplotlib.pyplot as plt\n",
      "%matplotlib inline"
     ],
     "language": "python",
     "metadata": {},
     "outputs": [],
     "prompt_number": 144
    },
    {
     "cell_type": "code",
     "collapsed": false,
     "input": [
      "zipcount = { 'zip' : [], 'count':[]}\n",
      "for i in result[\"result\"]:\n",
      "    \n",
      "\n",
      "    zipcount['zip'].append(i[\"_id\"])\n",
      "    zipcount['count'].append(i[\"count\"])\n",
      "zipcount"
     ],
     "language": "python",
     "metadata": {},
     "outputs": [
      {
       "metadata": {},
       "output_type": "pyout",
       "prompt_number": 145,
       "text": [
        "{'count': [841, 136, 117, 86, 85, 46, 4, 4, 2, 2],\n",
        " 'zip': [u'27519',\n",
        "  u'27502',\n",
        "  u'27511',\n",
        "  u'27606',\n",
        "  u'27513',\n",
        "  u'27518',\n",
        "  u'27523',\n",
        "  u'27539',\n",
        "  u'27560',\n",
        "  u'27607']}"
       ]
      }
     ],
     "prompt_number": 145
    },
    {
     "cell_type": "code",
     "collapsed": false,
     "input": [
      "df = pandas.DataFrame(zipcount,columns=['zip','count'])"
     ],
     "language": "python",
     "metadata": {},
     "outputs": [],
     "prompt_number": 146
    },
    {
     "cell_type": "code",
     "collapsed": false,
     "input": [
      "df"
     ],
     "language": "python",
     "metadata": {},
     "outputs": [
      {
       "html": [
        "<div style=\"max-height:1000px;max-width:1500px;overflow:auto;\">\n",
        "<table border=\"1\" class=\"dataframe\">\n",
        "  <thead>\n",
        "    <tr style=\"text-align: right;\">\n",
        "      <th></th>\n",
        "      <th>zip</th>\n",
        "      <th>count</th>\n",
        "    </tr>\n",
        "  </thead>\n",
        "  <tbody>\n",
        "    <tr>\n",
        "      <th>0</th>\n",
        "      <td> 27519</td>\n",
        "      <td> 841</td>\n",
        "    </tr>\n",
        "    <tr>\n",
        "      <th>1</th>\n",
        "      <td> 27502</td>\n",
        "      <td> 136</td>\n",
        "    </tr>\n",
        "    <tr>\n",
        "      <th>2</th>\n",
        "      <td> 27511</td>\n",
        "      <td> 117</td>\n",
        "    </tr>\n",
        "    <tr>\n",
        "      <th>3</th>\n",
        "      <td> 27606</td>\n",
        "      <td>  86</td>\n",
        "    </tr>\n",
        "    <tr>\n",
        "      <th>4</th>\n",
        "      <td> 27513</td>\n",
        "      <td>  85</td>\n",
        "    </tr>\n",
        "    <tr>\n",
        "      <th>5</th>\n",
        "      <td> 27518</td>\n",
        "      <td>  46</td>\n",
        "    </tr>\n",
        "    <tr>\n",
        "      <th>6</th>\n",
        "      <td> 27523</td>\n",
        "      <td>   4</td>\n",
        "    </tr>\n",
        "    <tr>\n",
        "      <th>7</th>\n",
        "      <td> 27539</td>\n",
        "      <td>   4</td>\n",
        "    </tr>\n",
        "    <tr>\n",
        "      <th>8</th>\n",
        "      <td> 27560</td>\n",
        "      <td>   2</td>\n",
        "    </tr>\n",
        "    <tr>\n",
        "      <th>9</th>\n",
        "      <td> 27607</td>\n",
        "      <td>   2</td>\n",
        "    </tr>\n",
        "  </tbody>\n",
        "</table>\n",
        "</div>"
       ],
       "metadata": {},
       "output_type": "pyout",
       "prompt_number": 147,
       "text": [
        "     zip  count\n",
        "0  27519    841\n",
        "1  27502    136\n",
        "2  27511    117\n",
        "3  27606     86\n",
        "4  27513     85\n",
        "5  27518     46\n",
        "6  27523      4\n",
        "7  27539      4\n",
        "8  27560      2\n",
        "9  27607      2"
       ]
      }
     ],
     "prompt_number": 147
    },
    {
     "cell_type": "code",
     "collapsed": false,
     "input": [
      "ggplot(aes(x='zip',y='count'), data=df) + geom_bar(stat=\"bar\",fill='steelblue')+\\\n",
      "  theme_seaborn()+\\\n",
      "  xlab(\"Zip Code\")+ylab(\"Count\")+ggtitle(\"Zip Code References for OpenStreet Map Data \\n minlat=35.7075 minlon=-78.8957 maxlat=35.8054 maxlon=-78.7033\")"
     ],
     "language": "python",
     "metadata": {},
     "outputs": [
      {
       "metadata": {},
       "output_type": "display_data",
       "png": "[encoded data removed]",
       "text": [
        "<matplotlib.figure.Figure at 0x10754a150>"
       ]
      },
      {
       "metadata": {},
       "output_type": "pyout",
       "prompt_number": 148,
       "text": [
        "<ggplot: (276129309)>"
       ]
      }
     ],
     "prompt_number": 148
    },
    {
     "cell_type": "markdown",
     "metadata": {},
     "source": [
      "#### City Exploration"
     ]
    },
    {
     "cell_type": "code",
     "collapsed": false,
     "input": [
      "def city_pipeline():\n",
      "    pipeline = [\n",
      "                {\"$match\" : {\"address.city\" : {\"$exists\" :1}}},\n",
      "                {\"$group\" : {\"_id\" : \"$address.city\",\"count\":{\"$sum\" : 1}}},\n",
      "                {\"$sort\" : {\"count\" : -1}},                             \n",
      "               ]\n",
      "    return(pipeline)"
     ],
     "language": "python",
     "metadata": {},
     "outputs": [],
     "prompt_number": 149
    },
    {
     "cell_type": "code",
     "collapsed": false,
     "input": [
      "pipeline = city_pipeline()\n",
      "result = db.caryapex.aggregate(pipeline)\n",
      "len(result[\"result\"])"
     ],
     "language": "python",
     "metadata": {},
     "outputs": [
      {
       "metadata": {},
       "output_type": "pyout",
       "prompt_number": 150,
       "text": [
        "4"
       ]
      }
     ],
     "prompt_number": 150
    },
    {
     "cell_type": "code",
     "collapsed": false,
     "input": [
      "pprint.pprint(result[\"result\"])"
     ],
     "language": "python",
     "metadata": {},
     "outputs": [
      {
       "output_type": "stream",
       "stream": "stdout",
       "text": [
        "[{u'_id': u'Cary', u'count': 1720},\n",
        " {u'_id': u'Apex', u'count': 145},\n",
        " {u'_id': u'Raleigh', u'count': 92},\n",
        " {u'_id': u'Morrisville', u'count': 2}]\n"
       ]
      }
     ],
     "prompt_number": 151
    },
    {
     "cell_type": "code",
     "collapsed": false,
     "input": [
      "citycount = { 'city' : [], 'count':[]}\n",
      "for i in result[\"result\"]:\n",
      "    \n",
      "\n",
      "    citycount['city'].append(i[\"_id\"])\n",
      "    citycount['count'].append(i[\"count\"])\n",
      "citycount"
     ],
     "language": "python",
     "metadata": {},
     "outputs": [
      {
       "metadata": {},
       "output_type": "pyout",
       "prompt_number": 152,
       "text": [
        "{'city': [u'Cary', u'Apex', u'Raleigh', u'Morrisville'],\n",
        " 'count': [1720, 145, 92, 2]}"
       ]
      }
     ],
     "prompt_number": 152
    },
    {
     "cell_type": "code",
     "collapsed": false,
     "input": [
      "dfcity = pandas.DataFrame(citycount,columns=['city','count'])\n",
      "dfcity"
     ],
     "language": "python",
     "metadata": {},
     "outputs": [
      {
       "html": [
        "<div style=\"max-height:1000px;max-width:1500px;overflow:auto;\">\n",
        "<table border=\"1\" class=\"dataframe\">\n",
        "  <thead>\n",
        "    <tr style=\"text-align: right;\">\n",
        "      <th></th>\n",
        "      <th>city</th>\n",
        "      <th>count</th>\n",
        "    </tr>\n",
        "  </thead>\n",
        "  <tbody>\n",
        "    <tr>\n",
        "      <th>0</th>\n",
        "      <td>        Cary</td>\n",
        "      <td> 1720</td>\n",
        "    </tr>\n",
        "    <tr>\n",
        "      <th>1</th>\n",
        "      <td>        Apex</td>\n",
        "      <td>  145</td>\n",
        "    </tr>\n",
        "    <tr>\n",
        "      <th>2</th>\n",
        "      <td>     Raleigh</td>\n",
        "      <td>   92</td>\n",
        "    </tr>\n",
        "    <tr>\n",
        "      <th>3</th>\n",
        "      <td> Morrisville</td>\n",
        "      <td>    2</td>\n",
        "    </tr>\n",
        "  </tbody>\n",
        "</table>\n",
        "</div>"
       ],
       "metadata": {},
       "output_type": "pyout",
       "prompt_number": 153,
       "text": [
        "          city  count\n",
        "0         Cary   1720\n",
        "1         Apex    145\n",
        "2      Raleigh     92\n",
        "3  Morrisville      2"
       ]
      }
     ],
     "prompt_number": 153
    },
    {
     "cell_type": "code",
     "collapsed": false,
     "input": [
      "ggplot(aes(x='city',y='count'), data=dfcity) + geom_bar(stat=\"bar\",fill='steelblue')+\\\n",
      "  theme_seaborn()+\\\n",
      "  xlab(\"City\")+ylab(\"Count\")+ggtitle(\"City References for OpenStreet Map Data \\n minlat=35.7075 minlon=-78.8957 maxlat=35.8054 maxlon=-78.7033\")"
     ],
     "language": "python",
     "metadata": {},
     "outputs": [
      {
       "metadata": {},
       "output_type": "display_data",
       "png": "[encoded data removed]",
       "text": [
        "<matplotlib.figure.Figure at 0x10f95b710>"
       ]
      },
      {
       "metadata": {},
       "output_type": "pyout",
       "prompt_number": 154,
       "text": [
        "<ggplot: (276111325)>"
       ]
      }
     ],
     "prompt_number": 154
    },
    {
     "cell_type": "markdown",
     "metadata": {},
     "source": [
      "#### Amenity Exploration"
     ]
    },
    {
     "cell_type": "code",
     "collapsed": false,
     "input": [
      "def amenity_pipeline():\n",
      "    pipeline = [\n",
      "                {\"$match\" : {\"amenity\" : {\"$exists\" :1}}},\n",
      "                \n",
      "                {\"$group\" : {\"_id\" : \"$amenity\",\"count\":{\"$sum\" : 1}}},\n",
      "                {\"$sort\" : {\"count\" : -1}},\n",
      "                {\"$limit\" : 10}\n",
      "               ]\n",
      "    return(pipeline)"
     ],
     "language": "python",
     "metadata": {},
     "outputs": [],
     "prompt_number": 155
    },
    {
     "cell_type": "code",
     "collapsed": false,
     "input": [
      "pipeline =amenity_pipeline()\n",
      "result = db.caryapex.aggregate(pipeline)\n",
      "for i in result[\"result\"]:\n",
      "    print \"%s: %s\" % (i[\"_id\"],i[\"count\"])"
     ],
     "language": "python",
     "metadata": {},
     "outputs": [
      {
       "output_type": "stream",
       "stream": "stdout",
       "text": [
        "parking: 202\n",
        "restaurant: 93\n",
        "fast_food: 80\n",
        "bench: 67\n",
        "bicycle_parking: 61\n",
        "school: 59\n",
        "place_of_worship: 55\n",
        "vending_machine: 48\n",
        "waste_basket: 43\n",
        "dentist: 35\n"
       ]
      }
     ],
     "prompt_number": 159
    },
    {
     "cell_type": "markdown",
     "metadata": {},
     "source": [
      "#### Cuisine"
     ]
    },
    {
     "cell_type": "code",
     "collapsed": false,
     "input": [
      "def cuisine_pipeline():\n",
      "    pipeline = [\n",
      "                {\"$match\" : {\"cuisine\" : {\"$exists\" :1}}},\n",
      "                \n",
      "                {\"$group\" : {\"_id\" : \"$cuisine\",\"count\":{\"$sum\" : 1}}},\n",
      "                {\"$sort\" : {\"count\" : -1}},\n",
      "                {\"$limit\" : 10}\n",
      "               ]\n",
      "    return(pipeline)"
     ],
     "language": "python",
     "metadata": {},
     "outputs": [],
     "prompt_number": 160
    },
    {
     "cell_type": "code",
     "collapsed": false,
     "input": [
      "pipeline =cuisine_pipeline()\n",
      "result = db.caryapex.aggregate(pipeline)\n",
      "for i in result[\"result\"]:\n",
      "    print \"%s: %s\" % (i[\"_id\"],i[\"count\"])"
     ],
     "language": "python",
     "metadata": {},
     "outputs": [
      {
       "output_type": "stream",
       "stream": "stdout",
       "text": [
        "pizza: 19\n",
        "sandwich: 19\n",
        "mexican: 12\n",
        "chinese: 11\n",
        "burger: 11\n",
        "ice_cream: 8\n",
        "chicken: 7\n",
        "american: 7\n",
        "asian: 6\n",
        "japanese: 6\n"
       ]
      }
     ],
     "prompt_number": 163
    },
    {
     "cell_type": "markdown",
     "metadata": {},
     "source": [
      "#### Highway"
     ]
    },
    {
     "cell_type": "code",
     "collapsed": false,
     "input": [
      "def hw_pipeline():\n",
      "    pipeline = [\n",
      "                {\"$match\" : {\"highway\" : {\"$exists\" :1}}},\n",
      "                \n",
      "                {\"$group\" : {\"_id\" : \"$highway\",\"count\":{\"$sum\" : 1}}},\n",
      "                {\"$sort\" : {\"count\" : -1}},\n",
      "               ]\n",
      "    return(pipeline)"
     ],
     "language": "python",
     "metadata": {},
     "outputs": [],
     "prompt_number": 72
    },
    {
     "cell_type": "code",
     "collapsed": false,
     "input": [
      "pipeline =hw_pipeline()\n",
      "result = db.caryapex.aggregate(pipeline)\n",
      "len(result[\"result\"])"
     ],
     "language": "python",
     "metadata": {},
     "outputs": [
      {
       "metadata": {},
       "output_type": "pyout",
       "prompt_number": 73,
       "text": [
        "31"
       ]
      }
     ],
     "prompt_number": 73
    },
    {
     "cell_type": "code",
     "collapsed": false,
     "input": [
      "pprint.pprint(result[\"result\"])"
     ],
     "language": "python",
     "metadata": {},
     "outputs": [
      {
       "output_type": "stream",
       "stream": "stdout",
       "text": [
        "[{u'_id': u'residential', u'count': 3586},\n",
        " {u'_id': u'service', u'count': 1555},\n",
        " {u'_id': u'turning_circle', u'count': 1091},\n",
        " {u'_id': u'footway', u'count': 563},\n",
        " {u'_id': u'crossing', u'count': 242},\n",
        " {u'_id': u'traffic_signals', u'count': 138},\n",
        " {u'_id': u'cycleway', u'count': 120},\n",
        " {u'_id': u'secondary', u'count': 119},\n",
        " {u'_id': u'motorway_link', u'count': 115},\n",
        " {u'_id': u'primary', u'count': 106},\n",
        " {u'_id': u'tertiary', u'count': 104},\n",
        " {u'_id': u'bus_stop', u'count': 72},\n",
        " {u'_id': u'stop', u'count': 66},\n",
        " {u'_id': u'motorway', u'count': 63},\n",
        " {u'_id': u'path', u'count': 51},\n",
        " {u'_id': u'motorway_junction', u'count': 41},\n",
        " {u'_id': u'unclassified', u'count': 39},\n",
        " {u'_id': u'trunk', u'count': 29},\n",
        " {u'_id': u'steps', u'count': 23},\n",
        " {u'_id': u'pedestrian', u'count': 13},\n",
        " {u'_id': u'track', u'count': 13},\n",
        " {u'_id': u'tertiary_link', u'count': 11},\n",
        " {u'_id': u'street_lamp', u'count': 11},\n",
        " {u'_id': u'milestone', u'count': 8},\n",
        " {u'_id': u'primary_link', u'count': 5},\n",
        " {u'_id': u'secondary_link', u'count': 4},\n",
        " {u'_id': u'turning_loop', u'count': 2},\n",
        " {u'_id': u'proposed', u'count': 2},\n",
        " {u'_id': u'road', u'count': 1},\n",
        " {u'_id': u'construction', u'count': 1},\n",
        " {u'_id': u'platform', u'count': 1}]\n"
       ]
      }
     ],
     "prompt_number": 74
    },
    {
     "cell_type": "markdown",
     "metadata": {},
     "source": [
      "#### Way with the most referenced nodes"
     ]
    },
    {
     "cell_type": "code",
     "collapsed": false,
     "input": [
      "def noderef_pipeline():\n",
      "    pipeline = [\n",
      "                {\"$match\" : {\"type\" : \"way\",\"node_refs\":{\"$exists\": 1}}},\n",
      "                {\"$project\" :{ \"_id\" : 1, \"id\":1,\n",
      "                              \"name\" : 1,\"timestamp\": \"$created.timestamp\",\n",
      "                              \"numnodes\": {\"$size\" : \"$node_refs\"}  }},\n",
      "                {\"$sort\" : {\"numnodes\" : -1}},\n",
      "                 {\"$limit\" : 1}\n",
      "               ]\n",
      "    return(pipeline)"
     ],
     "language": "python",
     "metadata": {},
     "outputs": [],
     "prompt_number": 170
    },
    {
     "cell_type": "code",
     "collapsed": false,
     "input": [
      "pipeline =noderef_pipeline()\n",
      "result = db.caryapex.aggregate(pipeline)\n",
      "print result[\"result\"][0][\"numnodes\"]"
     ],
     "language": "python",
     "metadata": {},
     "outputs": [
      {
       "output_type": "stream",
       "stream": "stdout",
       "text": [
        "626\n"
       ]
      }
     ],
     "prompt_number": 182
    },
    {
     "cell_type": "code",
     "collapsed": false,
     "input": [
      "pprint.pprint(result[\"result\"])\n"
     ],
     "language": "python",
     "metadata": {},
     "outputs": [
      {
       "output_type": "stream",
       "stream": "stdout",
       "text": [
        "[{u'_id': ObjectId('55466726ff6ea7c3f597f078'),\n",
        "  u'id': u'259281669',\n",
        "  u'numnodes': 626,\n",
        "  u'timestamp': u'2014-02-01T00:34:46Z'}]\n"
       ]
      }
     ],
     "prompt_number": 167
    },
    {
     "cell_type": "code",
     "collapsed": false,
     "input": [
      "nodesq = {\"type\":\"node\"}\n",
      "bigway = db.caryapex.find_one({'id':'259281669'})"
     ],
     "language": "python",
     "metadata": {},
     "outputs": [],
     "prompt_number": 168
    },
    {
     "cell_type": "code",
     "collapsed": false,
     "input": [
      "for k,v in bigway.items():\n",
      "    #Don't want to see 626 node references, just the other details\n",
      "    if k <> \"node_refs\": \n",
      "        print \"Key: \",k\n",
      "        print \"Value: \",v"
     ],
     "language": "python",
     "metadata": {},
     "outputs": [
      {
       "output_type": "stream",
       "stream": "stdout",
       "text": [
        "Key:  type\n",
        "Value:  way\n",
        "Key:  _id\n",
        "Value:  55466726ff6ea7c3f597f078\n",
        "Key:  id\n",
        "Value:  259281669\n",
        "Key:  created\n",
        "Value:  {u'timestamp': u'2014-02-01T00:34:46Z', u'user': u'Cre8or', u'version': u'1', u'uid': u'1862954', u'changeset': u'20309946'}\n"
       ]
      }
     ],
     "prompt_number": 169
    },
    {
     "cell_type": "markdown",
     "metadata": {},
     "source": [
      "#### Named way with most referenced nodes"
     ]
    },
    {
     "cell_type": "code",
     "collapsed": false,
     "input": [
      "def named_noderef_pipeline():\n",
      "    pipeline = [\n",
      "                {\"$match\" : {\"type\" : \"way\",\"node_refs\":{\"$exists\": 1},\"name\":{\"$exists\": 1}}},\n",
      "                {\"$project\" :{ \"_id\" : 1, \"id\":1,\n",
      "                              \"name\" : 1,\"timestamp\": \"$created.timestamp\",\n",
      "                              \"numnodes\": {\"$size\" : \"$node_refs\"}  }},\n",
      "                {\"$sort\" : {\"numnodes\" : -1}},\n",
      "                 {\"$limit\" : 1}\n",
      "               ]\n",
      "    return(pipeline)"
     ],
     "language": "python",
     "metadata": {},
     "outputs": [],
     "prompt_number": 183
    },
    {
     "cell_type": "code",
     "collapsed": false,
     "input": [
      "pipeline =named_noderef_pipeline()\n",
      "result = db.caryapex.aggregate(pipeline)\n",
      "print result[\"result\"][0][\"name\"], result[\"result\"][0][\"numnodes\"]"
     ],
     "language": "python",
     "metadata": {},
     "outputs": [
      {
       "output_type": "stream",
       "stream": "stdout",
       "text": [
        "Lake Johnson 323\n"
       ]
      }
     ],
     "prompt_number": 187
    },
    {
     "cell_type": "code",
     "collapsed": false,
     "input": [],
     "language": "python",
     "metadata": {},
     "outputs": []
    }
   ],
   "metadata": {}
  }
 ]
}